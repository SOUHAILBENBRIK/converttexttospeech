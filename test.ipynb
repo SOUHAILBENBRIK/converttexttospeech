{
 "cells": [
  {
   "cell_type": "code",
   "execution_count": 2,
   "metadata": {},
   "outputs": [],
   "source": [
    "\n",
    "import tkinter as tk \n",
    "from tkinter import * \n",
    "from tkinter import filedialog\n",
    "from tkinter.ttk import Combobox\n",
    "import pyttsx3\n",
    "import os \n",
    "from gtts import gTTS\n",
    "from playsound import playsound\n"
   ]
  },
  {
   "cell_type": "code",
   "execution_count": 8,
   "metadata": {},
   "outputs": [
    {
     "name": "stdout",
     "output_type": "stream",
     "text": [
      "[<pyttsx3.voice.Voice object at 0x000001D77EB20B90>, <pyttsx3.voice.Voice object at 0x000001D77CC48290>]\n"
     ]
    },
    {
     "ename": "KeyboardInterrupt",
     "evalue": "",
     "output_type": "error",
     "traceback": [
      "\u001b[1;31m---------------------------------------------------------------------------\u001b[0m",
      "\u001b[1;31mKeyboardInterrupt\u001b[0m                         Traceback (most recent call last)",
      "Cell \u001b[1;32mIn[8], line 52\u001b[0m\n\u001b[0;32m     50\u001b[0m play_btn \u001b[38;5;241m=\u001b[39m Button(root,text\u001b[38;5;241m=\u001b[39m\u001b[38;5;124m\"\u001b[39m\u001b[38;5;124mPlay\u001b[39m\u001b[38;5;124m\"\u001b[39m,compound\u001b[38;5;241m=\u001b[39m LEFT,bg\u001b[38;5;241m=\u001b[39m\u001b[38;5;124m'\u001b[39m\u001b[38;5;124mwhite\u001b[39m\u001b[38;5;124m'\u001b[39m,width\u001b[38;5;241m=\u001b[39m\u001b[38;5;241m20\u001b[39m,font\u001b[38;5;241m=\u001b[39m\u001b[38;5;124m\"\u001b[39m\u001b[38;5;124marial 14 bold\u001b[39m\u001b[38;5;124m\"\u001b[39m,borderwidth\u001b[38;5;241m=\u001b[39m \u001b[38;5;124m'\u001b[39m\u001b[38;5;124m0.1c\u001b[39m\u001b[38;5;124m'\u001b[39m,command \u001b[38;5;241m=\u001b[39m speaknow)\n\u001b[0;32m     51\u001b[0m play_btn\u001b[38;5;241m.\u001b[39mplace(x\u001b[38;5;241m=\u001b[39m\u001b[38;5;241m360\u001b[39m,y\u001b[38;5;241m=\u001b[39m\u001b[38;5;241m450\u001b[39m)\n\u001b[1;32m---> 52\u001b[0m \u001b[43mroot\u001b[49m\u001b[38;5;241;43m.\u001b[39;49m\u001b[43mmainloop\u001b[49m\u001b[43m(\u001b[49m\u001b[43m)\u001b[49m\n",
      "File \u001b[1;32mc:\\Python311\\Lib\\tkinter\\__init__.py:1485\u001b[0m, in \u001b[0;36mMisc.mainloop\u001b[1;34m(self, n)\u001b[0m\n\u001b[0;32m   1483\u001b[0m \u001b[38;5;28;01mdef\u001b[39;00m \u001b[38;5;21mmainloop\u001b[39m(\u001b[38;5;28mself\u001b[39m, n\u001b[38;5;241m=\u001b[39m\u001b[38;5;241m0\u001b[39m):\n\u001b[0;32m   1484\u001b[0m \u001b[38;5;250m    \u001b[39m\u001b[38;5;124;03m\"\"\"Call the mainloop of Tk.\"\"\"\u001b[39;00m\n\u001b[1;32m-> 1485\u001b[0m     \u001b[38;5;28;43mself\u001b[39;49m\u001b[38;5;241;43m.\u001b[39;49m\u001b[43mtk\u001b[49m\u001b[38;5;241;43m.\u001b[39;49m\u001b[43mmainloop\u001b[49m\u001b[43m(\u001b[49m\u001b[43mn\u001b[49m\u001b[43m)\u001b[49m\n",
      "\u001b[1;31mKeyboardInterrupt\u001b[0m: "
     ]
    }
   ],
   "source": [
    "root = Tk()\n",
    "root.title(\"@CodingWithSouhail\")\n",
    "root.iconbitmap('logo.ico')\n",
    "root.geometry(\"1000x580+200+80\")\n",
    "root.resizable(False,False)\n",
    "root.configure(bg='black')\n",
    "upper_frame = Frame(root,bg='white',width=1200,height=70)\n",
    "upper_frame.place(x=0,y=0)\n",
    "\n",
    "Label(upper_frame,text = \"Text to Speech Convert !!\",font=\"TimesNewroman 40 bold\",bg='white',fg=\"black\").place(x=200,y=5)\n",
    "text_box = Text(root,font = \"calibri 20\",bg=\"white\",relief = GROOVE,wrap = WORD,bd=0)\n",
    "text_box.place(x=30,y=150,width=940,height = 180)\n",
    "\n",
    "gender_box = Combobox(root,values=['French','English'],font='Robote 12',state='r',width=12)\n",
    "gender_box.place(x=340,y=400)\n",
    "gender_box.set('French')\n",
    "speed_box = Combobox(root,values=['slow','normal','fast'],font='Robote 12',state='r',width=12)\n",
    "speed_box.place(x=500,y=400)\n",
    "speed_box.set('normal')\n",
    "Label(upper_frame,text = \"Select Voice\",font=\"TimesNewroman 15 bold\",bg='#ffff44').place(x=340,y=370)\n",
    "Label(upper_frame,text = \"Select Speed\",font=\"TimesNewroman 15 bold\",bg='#ffff44').place(x=500,y=370)\n",
    "tts = pyttsx3.init()\n",
    "\n",
    "def speaknow() :\n",
    "    text = text_box.get(1.0,END)\n",
    "    gender = gender_box.get()\n",
    "    speed = speed_box.get()\n",
    "    voices = tts.getProperty('voices')\n",
    "    print(voices)\n",
    "    def setvoice():\n",
    "        if(gender =='French'):\n",
    "         tts.setProperty('voice',voices[0].id)\n",
    "         tts.say(text)\n",
    "         tts.runAndWait()\n",
    "        else:\n",
    "         tts.setProperty('voice',voices[1].id)\n",
    "         tts.say(text)\n",
    "         tts.runAndWait()\n",
    "    if(text):\n",
    "        if(speed == 'fast'):\n",
    "            tts.setProperty('rate',250)\n",
    "            setvoice()\n",
    "        elif(speed == 'normal'):\n",
    "            tts.setProperty('rate',150)\n",
    "            setvoice()\n",
    "        else:\n",
    "            tts.setProperty('rate',60)\n",
    "            setvoice()\n",
    "\n",
    "play_btn = Button(root,text=\"Play\",compound= LEFT,bg='white',width=20,font=\"arial 14 bold\",borderwidth= '0.1c',command = speaknow)\n",
    "play_btn.place(x=360,y=450)\n",
    "root.mainloop()\n"
   ]
  }
 ],
 "metadata": {
  "kernelspec": {
   "display_name": "Python 3",
   "language": "python",
   "name": "python3"
  },
  "language_info": {
   "codemirror_mode": {
    "name": "ipython",
    "version": 3
   },
   "file_extension": ".py",
   "mimetype": "text/x-python",
   "name": "python",
   "nbconvert_exporter": "python",
   "pygments_lexer": "ipython3",
   "version": "3.11.5"
  }
 },
 "nbformat": 4,
 "nbformat_minor": 2
}
